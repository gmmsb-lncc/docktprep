{
 "cells": [
  {
   "cell_type": "code",
   "execution_count": 1,
   "metadata": {},
   "outputs": [],
   "source": [
    "import os\n",
    "from biopandas.pdb import PandasPdb\n",
    "import copy\n",
    "from rdkit import Chem\n",
    "from rdkit.Chem import AllChem\n"
   ]
  },
  {
   "cell_type": "code",
   "execution_count": 2,
   "metadata": {},
   "outputs": [
    {
     "name": "stdout",
     "output_type": "stream",
     "text": [
      "oi\n"
     ]
    }
   ],
   "source": [
    "print(\"oi\")"
   ]
  },
  {
   "cell_type": "code",
   "execution_count": 3,
   "metadata": {},
   "outputs": [],
   "source": [
    "def split_file(pathName):\n",
    "    ppdb = PandasPdb()\n",
    "    ppdb.read_pdb(pathName)\n",
    "\n",
    "    atoms = ppdb.df['ATOM']\n",
    "    hetatms = ppdb.df['HETATM']\n",
    "\n",
    "    hetatms_split = hetatms.groupby(\"residue_name\")\n",
    "                        \n",
    "    return atoms, hetatms_split"
   ]
  },
  {
   "cell_type": "code",
   "execution_count": 4,
   "metadata": {},
   "outputs": [],
   "source": [
    "def save_mol_as_pdb(mol, output_file):\n",
    "    # Convert the Mol object to a PDB block\n",
    "    pdb_block = Chem.MolToPDBBlock(mol)\n",
    "\n",
    "    # Write the PDB block to the output file\n",
    "    with open(output_file, 'w') as file:\n",
    "        file.write(pdb_block)"
   ]
  },
  {
   "cell_type": "code",
   "execution_count": 5,
   "metadata": {},
   "outputs": [],
   "source": [
    "def add_hydrogens(hetatms_df):\n",
    "    ppdb = PandasPdb()\n",
    "    ppdb.df['HETATM'] = hetatms_df\n",
    "    tmp_file: str = \"tmp.pdb\"\n",
    "\n",
    "    ppdb.to_pdb(path=tmp_file, records=None, gz=False, append_newline=True)\n",
    "\n",
    "    with open(tmp_file, \"r\") as f:\n",
    "        file_content = f.read()\n",
    "        mol = Chem.MolFromPDBBlock(file_content)\n",
    "\n",
    "    mol_with_hydrogens = Chem.rdmolops.AddHs(mol, addCoords=True, addResidueInfo=True)\n",
    "    os.remove(tmp_file)\n",
    "\n",
    "    return mol_with_hydrogens"
   ]
  },
  {
   "cell_type": "code",
   "execution_count": 6,
   "metadata": {},
   "outputs": [
    {
     "name": "stdout",
     "output_type": "stream",
     "text": [
      "(35, 21)\n"
     ]
    }
   ],
   "source": [
    "moleculePath = \"../1hpv.pdb\"\n",
    "\n",
    "atoms_df, hetatms_df = split_file(moleculePath)\n",
    "\n",
    "for residue_name, group_hetatm in hetatms_df:\n",
    "    print(group_hetatm.shape)\n",
    "    if group_hetatm.empty:\n",
    "        continue\n",
    "    \n",
    "    mol_with_hydrogens = add_hydrogens(group_hetatm)\n",
    "    save_mol_as_pdb(mol_with_hydrogens, f\"{residue_name}_hs.pdb\")\n",
    "    \n",
    "    # print(hetatm_with_h)\n",
    "    \n",
    "    # if group_hetatm.empty:\n",
    "    #     print(f\"No HETATM records found for residue: {residue_name}\")\n",
    "    #     continue  # Skip empty groups\n",
    "    \n",
    "    # print(f\"Processing HETATM records for residue: {residue_name}\")\n",
    "    # hetatm_withH = add_hydrogens(group_hetatm)\n",
    "    # print(hetatm_withH.head())"
   ]
  },
  {
   "cell_type": "code",
   "execution_count": null,
   "metadata": {},
   "outputs": [],
   "source": []
  }
 ],
 "metadata": {
  "kernelspec": {
   "display_name": "env",
   "language": "python",
   "name": "python3"
  },
  "language_info": {
   "codemirror_mode": {
    "name": "ipython",
    "version": 3
   },
   "file_extension": ".py",
   "mimetype": "text/x-python",
   "name": "python",
   "nbconvert_exporter": "python",
   "pygments_lexer": "ipython3",
   "version": "3.11.0"
  },
  "orig_nbformat": 4
 },
 "nbformat": 4,
 "nbformat_minor": 2
}
